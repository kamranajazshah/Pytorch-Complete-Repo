{
 "cells": [
  {
   "cell_type": "code",
   "execution_count": null,
   "id": "0101a00c-f7e1-4c99-9050-e64682d595c4",
   "metadata": {},
   "outputs": [],
   "source": []
  }
 ],
 "metadata": {
  "kernelspec": {
   "display_name": "",
   "name": ""
  },
  "language_info": {
   "name": ""
  }
 },
 "nbformat": 4,
 "nbformat_minor": 5
}
